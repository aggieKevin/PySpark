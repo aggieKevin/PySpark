{
 "cells": [
  {
   "cell_type": "code",
   "execution_count": 1,
   "metadata": {},
   "outputs": [],
   "source": [
    "# import the moduels\n",
    "from pyspark import SparkConf, SparkContext\n",
    "import collections\n",
    "import os"
   ]
  },
  {
   "cell_type": "code",
   "execution_count": 2,
   "metadata": {},
   "outputs": [],
   "source": [
    "# set configuration for spark context\n",
    "conf=SparkConf().setMaster('local').setAppName('Rating')\n",
    "# create the spark context\n",
    "sc=SparkContext(conf=conf)"
   ]
  },
  {
   "cell_type": "code",
   "execution_count": 6,
   "metadata": {},
   "outputs": [],
   "source": [
    "# get data\n",
    "#root=r'C:\\Users\\hejia\\Documents\\python\\python-spark\\spark_udemy_taming_big_data\\ml_100k'\n",
    "root=os.getcwd()\n",
    "data_file=os.path.join(root,'ml_100k/u.data')"
   ]
  },
  {
   "cell_type": "code",
   "execution_count": 8,
   "metadata": {},
   "outputs": [],
   "source": [
    "# create RDD by reading the data from the file\n",
    "lines=sc.textFile(data_file)"
   ]
  },
  {
   "cell_type": "code",
   "execution_count": 28,
   "metadata": {},
   "outputs": [],
   "source": [
    "#  data have four columns: user id | item id | rating | timestamp\n",
    "# use map get the rating\n",
    "ratings=lines.map(lambda x: x.split()[2])\n",
    "result=ratings.countByValue()\n",
    "# sort the result\n",
    "sorted_result=sorted(result.items())"
   ]
  },
  {
   "cell_type": "code",
   "execution_count": 38,
   "metadata": {
    "scrolled": true
   },
   "outputs": [
    {
     "name": "stdout",
     "output_type": "stream",
     "text": [
      "1 has 6110\n",
      "2 has 11370\n",
      "3 has 27145\n",
      "4 has 34174\n",
      "5 has 21201\n"
     ]
    }
   ],
   "source": [
    "# print the result\n",
    "for value,count in sorted_result:\n",
    "    print('{0} has {1}'.format(value,count))"
   ]
  },
  {
   "cell_type": "code",
   "execution_count": 30,
   "metadata": {},
   "outputs": [],
   "source": [
    "#stop spark context\n",
    "sc.stop()"
   ]
  }
 ],
 "metadata": {
  "kernelspec": {
   "display_name": "Python 3",
   "language": "python",
   "name": "python3"
  },
  "language_info": {
   "codemirror_mode": {
    "name": "ipython",
    "version": 3
   },
   "file_extension": ".py",
   "mimetype": "text/x-python",
   "name": "python",
   "nbconvert_exporter": "python",
   "pygments_lexer": "ipython3",
   "version": "3.6.8"
  }
 },
 "nbformat": 4,
 "nbformat_minor": 2
}
