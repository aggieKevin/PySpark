{
 "cells": [
  {
   "cell_type": "markdown",
   "metadata": {},
   "source": [
    "# Calculate the similarities between movies\n",
    "## u.data   -- The full u data set, 100000 ratings by 943 users on 1682 items.\n",
    "Each user has rated at least 20 movies.  Users and items are numbered consecutively from 1.  The data is randomly ordered. This is a tab separated list of  \n",
    "user id | item id | rating | timestamp. \n",
    "The time stamps are unix seconds since 1/1/1970 UTC\n",
    "## u.item     -- Information about the items (movies); \n",
    "this is a tab separated list of\n",
    "movie id | movie title | release date | video release date |\n",
    "IMDb URL | unknown | Action | Adventure | Animation |\n",
    "Children's | Comedy | Crime | Documentary | Drama | Fantasy |\n",
    "Film-Noir | Horror | Musical | Mystery | Romance | Sci-Fi |\n",
    "Thriller | War | Western |\n",
    "The last 19 fields are the genres, a 1 indicates the movie\n",
    "is of that genre, a 0 indicates it is not; movies can be in\n",
    "several genres at once.\n",
    "The movie ids are the ones used in the u.data data set."
   ]
  },
  {
   "cell_type": "code",
   "execution_count": 7,
   "metadata": {},
   "outputs": [],
   "source": [
    "# import modules\n",
    "import sys\n",
    "from pyspark import SparkConf, SparkContext\n",
    "from math import sqrt\n",
    "import os\n",
    "root=os.getcwd() # root is the current directory "
   ]
  },
  {
   "cell_type": "code",
   "execution_count": 55,
   "metadata": {},
   "outputs": [],
   "source": [
    "# def the functions which are used later\n",
    "\n",
    "# Dic for movies, key(movie-id) --> value (movie title)\n",
    "def getMovieNames():\n",
    "    movieNames = {}\n",
    "    with open(os.path.join(root,\"ml_100k/u.ITEM\"), encoding='ascii', errors='ignore') as f:\n",
    "        for line in f:\n",
    "            fields = line.split('|')\n",
    "            movieNames[int(fields[0])] = fields[1]\n",
    "    return movieNames\n",
    "\n",
    "# function to remove duplicated ratings\n",
    "def filterDuplicates(userRatings): # userRatings: (userID,((movieID,rating),(movieID,rating)))\n",
    "    ratings=userRatings[1] # (movieID,rating),(movieID,rating)\n",
    "    movie1,rating1=ratings[0]\n",
    "    movie2,rating2=ratings[1]\n",
    "    return movie1<movie2\n",
    "\n",
    "# generate (movie1,movie2),(rating1,rating2) pairs:\n",
    "def makePairs(userRatings):\n",
    "    ratings=userRatings[1]\n",
    "    movie1,rating1=ratings[0]\n",
    "    movie2,rating2=ratings[1]\n",
    "    return ((movie1,movie2),(rating1,rating2))\n",
    "\n",
    "# function to caculate cosine similarity\n",
    "def computeCosineSimilarity(ratingPairs):\n",
    "    numPairs = 0\n",
    "    sum_xx = sum_yy = sum_xy = 0\n",
    "    for ratingX, ratingY in ratingPairs:\n",
    "        sum_xx += ratingX * ratingX\n",
    "        sum_yy += ratingY * ratingY\n",
    "        sum_xy += ratingX * ratingY\n",
    "        numPairs += 1\n",
    "\n",
    "    numerator = sum_xy\n",
    "    denominator = sqrt(sum_xx) * sqrt(sum_yy)\n",
    "\n",
    "    score = 0\n",
    "    if (denominator):\n",
    "        score = round((numerator / (float(denominator))),3)\n",
    "\n",
    "    return (score, numPairs)"
   ]
  },
  {
   "cell_type": "code",
   "execution_count": 11,
   "metadata": {},
   "outputs": [],
   "source": [
    "# set the spark context,using all available local CPUs\n",
    "conf = SparkConf().setMaster(\"local[*]\").setAppName(\"MovieSimilarities\")\n",
    "sc = SparkContext(conf = conf)"
   ]
  },
  {
   "cell_type": "code",
   "execution_count": 14,
   "metadata": {},
   "outputs": [],
   "source": [
    "# get the dic for movie names\n",
    "nameDict=getMovieNames()"
   ]
  },
  {
   "cell_type": "code",
   "execution_count": 20,
   "metadata": {},
   "outputs": [],
   "source": [
    "# get movie rating data\n",
    "ratingsRaw=sc.textFile(os.path.join(root,\"ml_100k/u.data\"))"
   ]
  },
  {
   "cell_type": "code",
   "execution_count": 22,
   "metadata": {},
   "outputs": [],
   "source": [
    "# map ratings to key/value pairs: userID -> (movieID,rating)\n",
    "ratingsPair = ratingsRaw.map(lambda l: l.split()).map(lambda l: (int(l[0]), (int(l[1]), float(l[2]))))"
   ]
  },
  {
   "cell_type": "code",
   "execution_count": 26,
   "metadata": {},
   "outputs": [],
   "source": [
    "# join and get: userID => ((movieID, rating), (movieID, rating))\n",
    "# a good example about how join works\n",
    "# http://apachesparkbook.blogspot.com/2015/12/join-leftouterjoin-rightouterjoin.html\n",
    "ratingsJoin=ratingsPair.join(ratingsPair)\n",
    "# filter the duplicate\n",
    "uniqueRatingsJoin=ratingsJoin.filter(filterDuplicates)"
   ]
  },
  {
   "cell_type": "code",
   "execution_count": 28,
   "metadata": {},
   "outputs": [],
   "source": [
    "# get rating pairs: key->value = movie1,movie2 -> rating1,rating2\n",
    "pairs=uniqueRatingsJoin.map(makePairs)"
   ]
  },
  {
   "cell_type": "code",
   "execution_count": 29,
   "metadata": {},
   "outputs": [],
   "source": [
    "# group ratings by movie pairs\n",
    "pairsGroup=pairs.groupByKey()\n",
    "# get a data structure like movie1,movie2 -> (rating1,rating2),(rating1,rating2)..."
   ]
  },
  {
   "cell_type": "code",
   "execution_count": 33,
   "metadata": {},
   "outputs": [],
   "source": [
    "# calculate similarities and save it to cache\n",
    "PairSimilarities = pairsGroup.mapValues(computeCosineSimilarity).cache()\n",
    "# get data set: (movie1, movie2) -> (similarityScore,numPairs)"
   ]
  },
  {
   "cell_type": "code",
   "execution_count": 45,
   "metadata": {},
   "outputs": [
    {
     "name": "stdout",
     "output_type": "stream",
     "text": [
      "select a movie ID: 50\n",
      "the movie name is Star Wars (1977)\n"
     ]
    }
   ],
   "source": [
    "# find the results meeting requirement\n",
    "scoreReq=0.97\n",
    "numReq=30\n",
    "stop=False\n",
    "while (stop!=True):\n",
    "    movieID=int(input('select a movie ID: '))\n",
    "    if movieID in nameDict.keys():\n",
    "        print(f'the movie name is {nameDict[movieID]}')\n",
    "        stop=True\n",
    "    else:\n",
    "        print(\"This movie ID doesn't exist, try another\\n\")"
   ]
  },
  {
   "cell_type": "code",
   "execution_count": null,
   "metadata": {
    "scrolled": false
   },
   "outputs": [],
   "source": [
    "nameDict.keys()"
   ]
  },
  {
   "cell_type": "code",
   "execution_count": 46,
   "metadata": {},
   "outputs": [],
   "source": [
    "filterRetults=PairSimilarities.filter(lambda pair:(movieID in pair[0]) \\\n",
    "    and (pair[1][0]>scoreReq and pair[1][1]>numReq))"
   ]
  },
  {
   "cell_type": "code",
   "execution_count": 50,
   "metadata": {
    "scrolled": true
   },
   "outputs": [
    {
     "data": {
      "text/plain": [
       "[((50, 172), (0.9895522078385338, 345)),\n",
       " ((28, 50), (0.9708054799005053, 243)),\n",
       " ((12, 50), (0.9724956031333988, 223)),\n",
       " ((50, 408), (0.9775948291054827, 92)),\n",
       " ((50, 404), (0.971249981890631, 95)),\n",
       " ((50, 480), (0.9734534315266805, 156)),\n",
       " ((50, 272), (0.9710571265648429, 110)),\n",
       " ((50, 1020), (0.9723737465397915, 31)),\n",
       " ((50, 612), (0.9710635462049332, 31)),\n",
       " ((50, 651), (0.9716728035350273, 155)),\n",
       " ((50, 495), (0.972453952686859, 52)),\n",
       " ((50, 483), (0.9726570623726027, 214)),\n",
       " ((50, 199), (0.9727591639531913, 145)),\n",
       " ((50, 479), (0.9702185595460495, 161)),\n",
       " ((50, 963), (0.9823449614960231, 40)),\n",
       " ((50, 251), (0.9761507096081464, 38)),\n",
       " ((50, 1007), (0.9783184758610347, 37)),\n",
       " ((50, 174), (0.981760098872619, 380)),\n",
       " ((50, 114), (0.9741816128302572, 58)),\n",
       " ((50, 478), (0.9734294611633468, 87)),\n",
       " ((50, 210), (0.9735394829992481, 304)),\n",
       " ((50, 166), (0.9722800399742672, 48)),\n",
       " ((50, 178), (0.9776576120448436, 109)),\n",
       " ((50, 498), (0.9764692222674887, 138)),\n",
       " ((50, 494), (0.9702063331088476, 49)),\n",
       " ((50, 602), (0.9736984873677115, 42)),\n",
       " ((50, 614), (0.9764635184622273, 46)),\n",
       " ((50, 194), (0.9751512937740359, 204)),\n",
       " ((50, 1142), (0.9758709250445461, 37)),\n",
       " ((50, 302), (0.9725071588724558, 158)),\n",
       " ((50, 794), (0.9706978794922798, 40)),\n",
       " ((50, 181), (0.9857230861253026, 480)),\n",
       " ((50, 173), (0.9713874963443219, 284)),\n",
       " ((50, 169), (0.9748681355460885, 103)),\n",
       " ((50, 193), (0.9716966796009308, 142)),\n",
       " ((50, 141), (0.9789385605497993, 68)),\n",
       " ((50, 1197), (0.9714954378443275, 34)),\n",
       " ((50, 297), (0.9768144539214534, 42))]"
      ]
     },
     "execution_count": 50,
     "metadata": {},
     "output_type": "execute_result"
    }
   ],
   "source": [
    "filterRetults.collect()"
   ]
  },
  {
   "cell_type": "code",
   "execution_count": 64,
   "metadata": {},
   "outputs": [],
   "source": [
    "# sort the result\n",
    "sortedResultsReverse=filterRetults.map(lambda l: (l[1],l[0])).sortByKey(ascending = False)\n",
    "sortedResults=sortedResultsReverse.map(lambda l: (l[1],l[0])).take(10)"
   ]
  },
  {
   "cell_type": "code",
   "execution_count": 65,
   "metadata": {},
   "outputs": [
    {
     "name": "stdout",
     "output_type": "stream",
     "text": [
      "((50, 172), (0.9895522078385338, 345))\n",
      "((50, 181), (0.9857230861253026, 480))\n",
      "((50, 963), (0.9823449614960231, 40))\n",
      "((50, 174), (0.981760098872619, 380))\n",
      "((50, 141), (0.9789385605497993, 68))\n",
      "((50, 1007), (0.9783184758610347, 37))\n",
      "((50, 178), (0.9776576120448436, 109))\n",
      "((50, 408), (0.9775948291054827, 92))\n",
      "((50, 297), (0.9768144539214534, 42))\n",
      "((50, 498), (0.9764692222674887, 138))\n"
     ]
    }
   ],
   "source": [
    "# print the results, the top ten \n",
    "for x in sortedResults:\n",
    "    print(x)"
   ]
  },
  {
   "cell_type": "code",
   "execution_count": null,
   "metadata": {},
   "outputs": [],
   "source": [
    "    "
   ]
  }
 ],
 "metadata": {
  "kernelspec": {
   "display_name": "Python 3",
   "language": "python",
   "name": "python3"
  },
  "language_info": {
   "codemirror_mode": {
    "name": "ipython",
    "version": 3
   },
   "file_extension": ".py",
   "mimetype": "text/x-python",
   "name": "python",
   "nbconvert_exporter": "python",
   "pygments_lexer": "ipython3",
   "version": "3.6.8"
  }
 },
 "nbformat": 4,
 "nbformat_minor": 2
}
