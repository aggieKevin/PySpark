{
 "cells": [
  {
   "cell_type": "markdown",
   "metadata": {},
   "source": [
    "# In this part,DataFrame is used instead of RDD"
   ]
  },
  {
   "cell_type": "code",
   "execution_count": 5,
   "metadata": {},
   "outputs": [],
   "source": [
    "# import moduels\n",
    "from pyspark.sql import SparkSession\n",
    "from pyspark.sql import Row\n",
    "from pyspark.sql import functions\n",
    "import os\n",
    "root=os.getcwd() # root is the current directory "
   ]
  },
  {
   "cell_type": "code",
   "execution_count": 3,
   "metadata": {},
   "outputs": [],
   "source": [
    "#  get the dictionary movieID-->movieName\n",
    "def getMovieNames():\n",
    "    movieNames = {}\n",
    "    with open(os.path.join(root,\"ml_100k/u.ITEM\")) as f:\n",
    "        for line in f:\n",
    "            fields = line.split('|')\n",
    "            movieNames[int(fields[0])] = fields[1]\n",
    "    return movieNames"
   ]
  },
  {
   "cell_type": "code",
   "execution_count": 6,
   "metadata": {},
   "outputs": [],
   "source": [
    "# create a Spark Session, which can be used for DataFrame\n",
    "spark = SparkSession.builder.config(\"spark.sql.warehouse.dir\", os.path.join(root,'temp')).appName(\"PopularMovies\").getOrCreate()\n",
    "nameDic=getMovieNames()"
   ]
  },
  {
   "cell_type": "code",
   "execution_count": 10,
   "metadata": {},
   "outputs": [],
   "source": [
    "# get the data from text file\n",
    "lines = spark.sparkContext.textFile(os.path.join(root,'ml_100k/u.data'))\n",
    "# map line to row, movieID as the key word\n",
    "moviesRDD = lines.map(lambda x: Row(movieID =int(x.split()[1])))"
   ]
  },
  {
   "cell_type": "code",
   "execution_count": 11,
   "metadata": {},
   "outputs": [],
   "source": [
    "# use createDataFrame function to generate DataFrame\n",
    "movieDF = spark.createDataFrame(moviesRDD)"
   ]
  },
  {
   "cell_type": "code",
   "execution_count": 17,
   "metadata": {},
   "outputs": [
    {
     "name": "stdout",
     "output_type": "stream",
     "text": [
      "move_50 Star Wars (1977) has 583 ratings\n",
      "move_258 Contact (1997) has 509 ratings\n",
      "move_100 Fargo (1996) has 508 ratings\n",
      "move_181 Return of the Jedi (1983) has 507 ratings\n",
      "move_294 Liar Liar (1997) has 485 ratings\n",
      "move_286 English Patient, The (1996) has 481 ratings\n",
      "move_288 Scream (1996) has 478 ratings\n",
      "move_1 Toy Story (1995) has 452 ratings\n",
      "move_300 Air Force One (1997) has 431 ratings\n",
      "move_121 Independence Day (ID4) (1996) has 429 ratings\n"
     ]
    }
   ],
   "source": [
    "# rank the movies by popularity\n",
    "topMovieIDs = movieDF.groupBy(\"movieID\").count().orderBy(\"count\", ascending=False).cache()\n",
    "#show top 10\n",
    "top10=topMovieIDs.take(10)\n",
    "for p in top10:\n",
    "    print('move_{} {} has {} ratings'.format(p[0],nameDic[p[0]],p[1]))"
   ]
  },
  {
   "cell_type": "code",
   "execution_count": 18,
   "metadata": {},
   "outputs": [],
   "source": [
    "spark.stop()"
   ]
  }
 ],
 "metadata": {
  "kernelspec": {
   "display_name": "Python 3",
   "language": "python",
   "name": "python3"
  },
  "language_info": {
   "codemirror_mode": {
    "name": "ipython",
    "version": 3
   },
   "file_extension": ".py",
   "mimetype": "text/x-python",
   "name": "python",
   "nbconvert_exporter": "python",
   "pygments_lexer": "ipython3",
   "version": "3.6.8"
  }
 },
 "nbformat": 4,
 "nbformat_minor": 2
}
