{
 "cells": [
  {
   "cell_type": "markdown",
   "metadata": {},
   "source": [
    "# Find the most popular movie from the dataset\n",
    "\n",
    "\n",
    "## u.data   -- The full u data set, 100000 ratings by 943 users on 1682 items.\n",
    "Each user has rated at least 20 movies.  Users and items are numbered consecutively from 1.  The data is randomly ordered. This is a tab separated list of  \n",
    "user id | item id | rating | timestamp. \n",
    "The time stamps are unix seconds since 1/1/1970 UTC \n",
    "## u.item     -- Information about the items (movies); \n",
    "this is a tab separated list of\n",
    "movie id | movie title | release date | video release date |\n",
    "IMDb URL | unknown | Action | Adventure | Animation |\n",
    "Children's | Comedy | Crime | Documentary | Drama | Fantasy |\n",
    "Film-Noir | Horror | Musical | Mystery | Romance | Sci-Fi |\n",
    "Thriller | War | Western |\n",
    "The last 19 fields are the genres, a 1 indicates the movie\n",
    "is of that genre, a 0 indicates it is not; movies can be in\n",
    "several genres at once.\n",
    "The movie ids are the ones used in the u.data data set."
   ]
  },
  {
   "cell_type": "code",
   "execution_count": 37,
   "metadata": {},
   "outputs": [],
   "source": [
    "# import modules\n",
    "from pyspark import SparkConf,SparkContext"
   ]
  },
  {
   "cell_type": "code",
   "execution_count": 38,
   "metadata": {},
   "outputs": [],
   "source": [
    "# define directory\n",
    "import os\n",
    "root=os.getcwd()"
   ]
  },
  {
   "cell_type": "code",
   "execution_count": 39,
   "metadata": {},
   "outputs": [],
   "source": [
    "# define the map function\n",
    "\n",
    "def getMovieNames():\n",
    "    data_location=os.path.join(root,'ml_100k/u.item')\n",
    "    movieNames={} # dictionary, key:movie id, value:movie name\n",
    "    with open(data_location) as f:\n",
    "        for line in f:\n",
    "            elements=line.split('|')\n",
    "            movieNames[int(elements[0])]=elements[1]\n",
    "    return movieNames"
   ]
  },
  {
   "cell_type": "code",
   "execution_count": 40,
   "metadata": {},
   "outputs": [],
   "source": [
    "# set the configuration for spark context\n",
    "# the cluster will run on local matchines\n",
    "# remember: name should include white space, or there will be errors\n",
    "conf=SparkConf().setMaster(\"local\").setAppName('PopMovies')\n",
    "sc=SparkContext(conf=conf)"
   ]
  },
  {
   "cell_type": "code",
   "execution_count": 41,
   "metadata": {
    "scrolled": true
   },
   "outputs": [],
   "source": [
    "#broadcast the movieNames dic to all nodes in cluster\n",
    "nameDict=sc.broadcast(getMovieNames())"
   ]
  },
  {
   "cell_type": "code",
   "execution_count": 43,
   "metadata": {},
   "outputs": [],
   "source": [
    "# create a rdd by reading data from a text file\n",
    "lines=sc.textFile(os.path.join(root,'ml_100k/u.data'))"
   ]
  },
  {
   "cell_type": "code",
   "execution_count": 47,
   "metadata": {},
   "outputs": [],
   "source": [
    "# map the row to (movie id,1)\n",
    "movies=lines.map(lambda x: (int(x.split()[1]),1))                "
   ]
  },
  {
   "cell_type": "code",
   "execution_count": 57,
   "metadata": {},
   "outputs": [],
   "source": [
    "# reduce by movie id, getting the total number of ratings for each\n",
    "# then map the movie id to movid name\n",
    "movieCounts=movies.reduceByKey(lambda x,y:x+y)\n",
    "movieCounts2=movieCounts.map(lambda x: (x[0],nameDict.value[x[0]],x[1]))"
   ]
  },
  {
   "cell_type": "code",
   "execution_count": 58,
   "metadata": {},
   "outputs": [],
   "source": [
    "# collect results\n",
    "results=movieCounts2.collect()"
   ]
  },
  {
   "cell_type": "code",
   "execution_count": 61,
   "metadata": {},
   "outputs": [],
   "source": [
    "# sort the result by count of ratings\n",
    "results.sort(key=lambda x:x[2])"
   ]
  },
  {
   "cell_type": "code",
   "execution_count": 62,
   "metadata": {},
   "outputs": [
    {
     "data": {
      "text/plain": [
       "[(121, 'Independence Day (ID4) (1996)', 429),\n",
       " (300, 'Air Force One (1997)', 431),\n",
       " (1, 'Toy Story (1995)', 452),\n",
       " (288, 'Scream (1996)', 478),\n",
       " (286, 'English Patient, The (1996)', 481),\n",
       " (294, 'Liar Liar (1997)', 485),\n",
       " (181, 'Return of the Jedi (1983)', 507),\n",
       " (100, 'Fargo (1996)', 508),\n",
       " (258, 'Contact (1997)', 509),\n",
       " (50, 'Star Wars (1977)', 583)]"
      ]
     },
     "execution_count": 62,
     "metadata": {},
     "output_type": "execute_result"
    }
   ],
   "source": [
    "# list the most popular ten movies\n",
    "results[-10:]"
   ]
  },
  {
   "cell_type": "code",
   "execution_count": 63,
   "metadata": {},
   "outputs": [],
   "source": [
    "sc.stop()"
   ]
  }
 ],
 "metadata": {
  "kernelspec": {
   "display_name": "Python 3",
   "language": "python",
   "name": "python3"
  },
  "language_info": {
   "codemirror_mode": {
    "name": "ipython",
    "version": 3
   },
   "file_extension": ".py",
   "mimetype": "text/x-python",
   "name": "python",
   "nbconvert_exporter": "python",
   "pygments_lexer": "ipython3",
   "version": "3.6.8"
  }
 },
 "nbformat": 4,
 "nbformat_minor": 2
}
