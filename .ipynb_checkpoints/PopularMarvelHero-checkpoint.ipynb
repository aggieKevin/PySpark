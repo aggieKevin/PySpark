{
 "cells": [
  {
   "cell_type": "markdown",
   "metadata": {},
   "source": [
    "# Find the most popular Marvel super hero from the dataset\n",
    "## Marvel-names.txt   \n",
    "super hero id | super hero name\n",
    "## Marvel-Graph.txt\n",
    "Super heros' connections"
   ]
  },
  {
   "cell_type": "code",
   "execution_count": 6,
   "metadata": {},
   "outputs": [],
   "source": [
    "# import modules\n",
    "from pyspark import SparkConf, SparkContext\n",
    "import os\n",
    "root=os.getcwd()"
   ]
  },
  {
   "cell_type": "code",
   "execution_count": 2,
   "metadata": {},
   "outputs": [],
   "source": [
    "# define map functions\n",
    "def countConnections(line):\n",
    "    elements=line.split()\n",
    "    return (int(elements[0]),len(elements)-1) #remove self\n",
    "\n",
    "def getNames(line):\n",
    "    elements=line.split('\\\"')# separate by \", use \\ to escape\n",
    "    return (int(elements[0]),elements[1].encode('utf8'))\n"
   ]
  },
  {
   "cell_type": "code",
   "execution_count": 4,
   "metadata": {},
   "outputs": [],
   "source": [
    "# configuration and create a new spark context\n",
    "conf=SparkConf().setMaster('local').setAppName('MarvelHero')\n",
    "sc=SparkContext(conf=conf)"
   ]
  },
  {
   "cell_type": "code",
   "execution_count": 7,
   "metadata": {},
   "outputs": [],
   "source": [
    "# create a RDD by reading the data from txt file\n",
    "original=sc.textFile(os.path.join(root,'marvel-names.txt'))\n",
    "names=original.map(getNames)\n",
    "\n",
    "# create another relationship RDD\n",
    "original2=sc.textFile(os.path.join(root,'marvel-graph.txt'))\n",
    "connection=original2.map(countConnections)"
   ]
  },
  {
   "cell_type": "code",
   "execution_count": 8,
   "metadata": {},
   "outputs": [],
   "source": [
    "# count number of friend for each super hero\n",
    "numberOfFriends=connection.reduceByKey(lambda x,y:x+y)\n",
    "reverse=numberOfFriends.map(lambda x: (x[1],x[0]))# reverse, so can sort by key"
   ]
  },
  {
   "cell_type": "code",
   "execution_count": 41,
   "metadata": {},
   "outputs": [],
   "source": [
    "# sort the data by key, the number of friends\n",
    "mostPop=reverse.max()"
   ]
  },
  {
   "cell_type": "code",
   "execution_count": 42,
   "metadata": {},
   "outputs": [],
   "source": [
    "mostPopName=names.lookup(mostPop[1])[0].decode() # look up by key word"
   ]
  },
  {
   "cell_type": "code",
   "execution_count": 44,
   "metadata": {
    "scrolled": false
   },
   "outputs": [
    {
     "name": "stdout",
     "output_type": "stream",
     "text": [
      "most popular superhero is CAPTAIN AMERICA\n"
     ]
    }
   ],
   "source": [
    "print('most popular superhero is {}'.format(mostPopName))"
   ]
  },
  {
   "cell_type": "code",
   "execution_count": 45,
   "metadata": {},
   "outputs": [
    {
     "name": "stdout",
     "output_type": "stream",
     "text": [
      "most popular superhero is CAPTAIN AMERICA\n"
     ]
    }
   ],
   "source": [
    "print(f'most popular superhero is {mostPopName}')# new str method in python3.+"
   ]
  }
 ],
 "metadata": {
  "kernelspec": {
   "display_name": "Python 3",
   "language": "python",
   "name": "python3"
  },
  "language_info": {
   "codemirror_mode": {
    "name": "ipython",
    "version": 3
   },
   "file_extension": ".py",
   "mimetype": "text/x-python",
   "name": "python",
   "nbconvert_exporter": "python",
   "pygments_lexer": "ipython3",
   "version": "3.6.8"
  }
 },
 "nbformat": 4,
 "nbformat_minor": 2
}
