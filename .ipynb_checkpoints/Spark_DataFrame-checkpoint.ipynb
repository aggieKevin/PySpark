{
 "cells": [
  {
   "cell_type": "markdown",
   "metadata": {},
   "source": [
    "# In this part,DataFrame is used instead of RDD"
   ]
  },
  {
   "cell_type": "code",
   "execution_count": 5,
   "metadata": {},
   "outputs": [],
   "source": [
    "# import moduels\n",
    "from pyspark.sql import SparkSession\n",
    "from pyspark.sql import Row\n",
    "from pyspark.sql import functions\n",
    "import os\n",
    "root=os.getcwd() # root is the current directory "
   ]
  },
  {
   "cell_type": "code",
   "execution_count": 3,
   "metadata": {},
   "outputs": [],
   "source": [
    "#  get the dictionary movieID-->movieName\n",
    "def getMovieNames():\n",
    "    movieNames = {}\n",
    "    with open(os.path.join(root,\"ml_100k/u.ITEM\")) as f:\n",
    "        for line in f:\n",
    "            fields = line.split('|')\n",
    "            movieNames[int(fields[0])] = fields[1]\n",
    "    return movieNames"
   ]
  },
  {
   "cell_type": "code",
   "execution_count": 6,
   "metadata": {},
   "outputs": [],
   "source": [
    "# create a Spark Session, which can be used for DataFrame\n",
    "spark = SparkSession.builder.config(\"spark.sql.warehouse.dir\", os.path.join(root,'temp')).appName(\"PopularMovies\").getOrCreate()\n",
    "nameDic=getMovieNames()"
   ]
  },
  {
   "cell_type": "code",
   "execution_count": 10,
   "metadata": {},
   "outputs": [],
   "source": [
    "# get the data from text file\n",
    "lines = spark.sparkContext.textFile(os.path.join(root,'ml_100k/u.data'))\n",
    "# map line to row, movieID as the key word\n",
    "moviesRDD = lines.map(lambda x: Row(movieID =int(x.split()[1])))"
   ]
  },
  {
   "cell_type": "code",
   "execution_count": 11,
   "metadata": {},
   "outputs": [],
   "source": [
    "# use createDataFrame function to generate DataFrame\n",
    "movieDF = spark.createDataFrame(moviesRDD)"
   ]
  },
  {
   "cell_type": "code",
   "execution_count": 15,
   "metadata": {},
   "outputs": [
    {
     "data": {
      "text/plain": [
       "[Row(movieID=50, count=583),\n",
       " Row(movieID=258, count=509),\n",
       " Row(movieID=100, count=508),\n",
       " Row(movieID=181, count=507),\n",
       " Row(movieID=294, count=485),\n",
       " Row(movieID=286, count=481),\n",
       " Row(movieID=288, count=478),\n",
       " Row(movieID=1, count=452),\n",
       " Row(movieID=300, count=431),\n",
       " Row(movieID=121, count=429)]"
      ]
     },
     "execution_count": 15,
     "metadata": {},
     "output_type": "execute_result"
    }
   ],
   "source": [
    "# rank the movies by popularity\n",
    "topMovieIDs = movieDF.groupBy(\"movieID\").count().orderBy(\"count\", ascending=False).cache()\n",
    "#show top 10\n",
    "topMovieIDs.take(10)"
   ]
  },
  {
   "cell_type": "code",
   "execution_count": null,
   "metadata": {},
   "outputs": [],
   "source": [
    "spark.stop()"
   ]
  }
 ],
 "metadata": {
  "kernelspec": {
   "display_name": "Python 3",
   "language": "python",
   "name": "python3"
  },
  "language_info": {
   "codemirror_mode": {
    "name": "ipython",
    "version": 3
   },
   "file_extension": ".py",
   "mimetype": "text/x-python",
   "name": "python",
   "nbconvert_exporter": "python",
   "pygments_lexer": "ipython3",
   "version": "3.6.8"
  }
 },
 "nbformat": 4,
 "nbformat_minor": 2
}
